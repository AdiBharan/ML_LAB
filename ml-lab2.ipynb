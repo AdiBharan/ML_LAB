{
 "cells": [
  {
   "cell_type": "markdown",
   "id": "5234c891",
   "metadata": {
    "button": false,
    "new_sheet": false,
    "papermill": {
     "duration": 0.00825,
     "end_time": "2022-07-27T05:37:13.434456",
     "exception": false,
     "start_time": "2022-07-27T05:37:13.426206",
     "status": "completed"
    },
    "run_control": {
     "read_only": false
    },
    "tags": []
   },
   "source": [
    "## Simple Linear Regression\n",
    "\n"
   ]
  },
  {
   "cell_type": "markdown",
   "id": "2d5b120e",
   "metadata": {
    "button": false,
    "new_sheet": false,
    "papermill": {
     "duration": 0.006578,
     "end_time": "2022-07-27T05:37:13.447948",
     "exception": false,
     "start_time": "2022-07-27T05:37:13.441370",
     "status": "completed"
    },
    "run_control": {
     "read_only": false
    },
    "tags": []
   },
   "source": [
    "### Importing packages"
   ]
  },
  {
   "cell_type": "code",
   "execution_count": 1,
   "id": "9ccde4df",
   "metadata": {
    "button": false,
    "execution": {
     "iopub.execute_input": "2022-07-27T05:37:13.463322Z",
     "iopub.status.busy": "2022-07-27T05:37:13.462796Z",
     "iopub.status.idle": "2022-07-27T05:37:13.477009Z",
     "shell.execute_reply": "2022-07-27T05:37:13.475998Z"
    },
    "new_sheet": false,
    "papermill": {
     "duration": 0.024674,
     "end_time": "2022-07-27T05:37:13.479102",
     "exception": false,
     "start_time": "2022-07-27T05:37:13.454428",
     "status": "completed"
    },
    "run_control": {
     "read_only": false
    },
    "tags": []
   },
   "outputs": [],
   "source": [
    "import matplotlib.pyplot as plt\n",
    "import numpy as np\n",
    "import pandas as pd\n",
    "%matplotlib inline"
   ]
  },
  {
   "cell_type": "markdown",
   "id": "da87f9b6",
   "metadata": {
    "button": false,
    "new_sheet": false,
    "papermill": {
     "duration": 0.006369,
     "end_time": "2022-07-27T05:37:13.492208",
     "exception": false,
     "start_time": "2022-07-27T05:37:13.485839",
     "status": "completed"
    },
    "run_control": {
     "read_only": false
    },
    "tags": []
   },
   "source": [
    "### Create our own data"
   ]
  },
  {
   "cell_type": "code",
   "execution_count": 2,
   "id": "9465014b",
   "metadata": {
    "button": false,
    "execution": {
     "iopub.execute_input": "2022-07-27T05:37:13.507071Z",
     "iopub.status.busy": "2022-07-27T05:37:13.506589Z",
     "iopub.status.idle": "2022-07-27T05:37:13.533711Z",
     "shell.execute_reply": "2022-07-27T05:37:13.531139Z"
    },
    "new_sheet": false,
    "papermill": {
     "duration": 0.036804,
     "end_time": "2022-07-27T05:37:13.535752",
     "exception": false,
     "start_time": "2022-07-27T05:37:13.498948",
     "status": "completed"
    },
    "run_control": {
     "read_only": false
    },
    "tags": []
   },
   "outputs": [
    {
     "name": "stdout",
     "output_type": "stream",
     "text": [
      "    Year  Placement\n",
      "0   2000         50\n",
      "1   2001         54\n",
      "2   2002         62\n",
      "3   2003         78\n",
      "4   2004         65\n",
      "5   2005         69\n",
      "6   2006         72\n",
      "7   2007         77\n",
      "8   2008         85\n",
      "9   2009         98\n",
      "10  2010         75\n",
      "11  2011         80\n",
      "12  2012         82\n",
      "13  2013         85\n",
      "14  2014         88\n",
      "15  2015         75\n",
      "16  2016         90\n",
      "17  2017         93\n",
      "18  2018         95\n",
      "19  2019         98\n",
      "    Year  Placement\n",
      "0   2000         50\n",
      "1   2001         50\n",
      "2   2002         50\n",
      "3   2003         50\n",
      "4   2004         50\n",
      "5   2005         50\n",
      "6   2006         50\n",
      "7   2007         50\n",
      "8   2008         50\n",
      "9   2009         50\n",
      "10  2010         50\n",
      "11  2011         50\n",
      "12  2012         50\n",
      "13  2013         50\n",
      "14  2014         50\n",
      "15  2015         50\n",
      "16  2016         50\n",
      "17  2017         50\n",
      "18  2018         50\n",
      "19  2019         50\n"
     ]
    }
   ],
   "source": [
    "datafile = pd.DataFrame()\n",
    "datafile[0] = np.arange(2000,2020)\n",
    "datafile[1] = [50,54,62,78,65,69,72,77,85,98,75,80,82,85,88,75,90,93,95,98]\n",
    "#datafile[0] = [1,3,5]\n",
    "datafile1 = pd.DataFrame()\n",
    "datafile1[0] = np.arange(2000,2020)\n",
    "#datafile1[1] = [50,54,62,65,68,70,71,74,76,80,82,84,86,90,91,93,94,95,98,100]\n",
    "datafile1[1] = [50,50,50,50,50,50,50,50,50,50,50,50,50,50,50,50,50,50,50,50]\n",
    "#datafile[1] = [22,34,50]\n",
    "datafile.columns =[\"Year\",\"Placement\"]\n",
    "datafile1.columns =[\"Year\",\"Placement\"]\n",
    "print(datafile)\n",
    "print(datafile1)"
   ]
  },
  {
   "cell_type": "markdown",
   "id": "dc6fc134",
   "metadata": {
    "papermill": {
     "duration": 0.00683,
     "end_time": "2022-07-27T05:37:13.549390",
     "exception": false,
     "start_time": "2022-07-27T05:37:13.542560",
     "status": "completed"
    },
    "tags": []
   },
   "source": [
    "## Checking Linearity\n"
   ]
  },
  {
   "cell_type": "code",
   "execution_count": 3,
   "id": "03d2485b",
   "metadata": {
    "execution": {
     "iopub.execute_input": "2022-07-27T05:37:13.565489Z",
     "iopub.status.busy": "2022-07-27T05:37:13.563733Z",
     "iopub.status.idle": "2022-07-27T05:37:13.817452Z",
     "shell.execute_reply": "2022-07-27T05:37:13.816541Z"
    },
    "papermill": {
     "duration": 0.267915,
     "end_time": "2022-07-27T05:37:13.824100",
     "exception": false,
     "start_time": "2022-07-27T05:37:13.556185",
     "status": "completed"
    },
    "tags": []
   },
   "outputs": [
    {
     "data": {
      "image/png": "[encoded data removed]",
      "text/plain": [
       "<Figure size 432x288 with 1 Axes>"
      ]
     },
     "metadata": {
      "needs_background": "light"
     },
     "output_type": "display_data"
    }
   ],
   "source": [
    "plt.scatter(datafile['Year'],datafile['Placement'])\n",
    "plt.title(\"Placement plot\")\n",
    "plt.xlim(2000,2020)\n",
    "plt.ylim(45,100)\n",
    "plt.xticks(np.arange(2000,2020,2))\n",
    "plt.legend()\n",
    "plt.xlabel(\"Year\")\n",
    "plt.ylabel(\"Placement\")\n",
    "plt.show()"
   ]
  },
  {
   "cell_type": "code",
   "execution_count": 4,
   "id": "ef83fc6f",
   "metadata": {
    "execution": {
     "iopub.execute_input": "2022-07-27T05:37:13.845849Z",
     "iopub.status.busy": "2022-07-27T05:37:13.845529Z",
     "iopub.status.idle": "2022-07-27T05:37:15.003717Z",
     "shell.execute_reply": "2022-07-27T05:37:15.002779Z"
    },
    "papermill": {
     "duration": 1.16963,
     "end_time": "2022-07-27T05:37:15.005938",
     "exception": false,
     "start_time": "2022-07-27T05:37:13.836308",
     "status": "completed"
    },
    "tags": []
   },
   "outputs": [
    {
     "data": {
      "text/plain": [
       "<AxesSubplot:>"
      ]
     },
     "execution_count": 4,
     "metadata": {},
     "output_type": "execute_result"
    },
    {
     "data": {
      "image/png": "[encoded data removed]",
      "text/plain": [
       "<Figure size 432x288 with 2 Axes>"
      ]
     },
     "metadata": {
      "needs_background": "light"
     },
     "output_type": "display_data"
    }
   ],
   "source": [
    "import seaborn as sb\n",
    "data_corr = datafile.corr()\n",
    "sb.heatmap(data_corr,annot=True)"
   ]
  },
  {
   "cell_type": "markdown",
   "id": "d0d8bd84",
   "metadata": {
    "papermill": {
     "duration": 0.007222,
     "end_time": "2022-07-27T05:37:15.021143",
     "exception": false,
     "start_time": "2022-07-27T05:37:15.013921",
     "status": "completed"
    },
    "tags": []
   },
   "source": [
    "### Modeling"
   ]
  },
  {
   "cell_type": "code",
   "execution_count": 5,
   "id": "dc29cf67",
   "metadata": {
    "button": false,
    "execution": {
     "iopub.execute_input": "2022-07-27T05:37:15.037915Z",
     "iopub.status.busy": "2022-07-27T05:37:15.037023Z",
     "iopub.status.idle": "2022-07-27T05:37:15.269705Z",
     "shell.execute_reply": "2022-07-27T05:37:15.268475Z"
    },
    "new_sheet": false,
    "papermill": {
     "duration": 0.243697,
     "end_time": "2022-07-27T05:37:15.272374",
     "exception": false,
     "start_time": "2022-07-27T05:37:15.028677",
     "status": "completed"
    },
    "run_control": {
     "read_only": false
    },
    "tags": []
   },
   "outputs": [
    {
     "name": "stdout",
     "output_type": "stream",
     "text": [
      "Coefficients:  [[1.94661654]]\n",
      "Intercept:  [-3833.17593985]\n",
      "Coefficients:  [[0.]]\n",
      "Intercept:  [50.]\n"
     ]
    }
   ],
   "source": [
    "from sklearn import linear_model\n",
    "regress = linear_model.LinearRegression()\n",
    "\n",
    "train_x = np.asanyarray(datafile[['Year']])\n",
    "train_y = np.asanyarray(datafile[['Placement']])\n",
    "#print(train_x)\n",
    "#print(train_y)\n",
    "\n",
    "regress.fit (train_x,train_y)\n",
    "# The coefficients\n",
    "print ('Coefficients: ', regress.coef_)\n",
    "print ('Intercept: ',regress.intercept_)\n",
    "\n",
    "regress1 = linear_model.LinearRegression()\n",
    "train_x1 = np.asanyarray(datafile1[['Year']])\n",
    "train_y1 = np.asanyarray(datafile1[['Placement']])\n",
    "#print(train_x)\n",
    "#print(train_y)\n",
    "\n",
    "regress1.fit (train_x1,train_y1)\n",
    "# The coefficients\n",
    "print ('Coefficients: ', regress1.coef_)\n",
    "print ('Intercept: ',regress1.intercept_)"
   ]
  },
  {
   "cell_type": "markdown",
   "id": "c47d7a4d",
   "metadata": {
    "button": false,
    "new_sheet": false,
    "papermill": {
     "duration": 0.007318,
     "end_time": "2022-07-27T05:37:15.287860",
     "exception": false,
     "start_time": "2022-07-27T05:37:15.280542",
     "status": "completed"
    },
    "run_control": {
     "read_only": false
    },
    "tags": []
   },
   "source": [
    "#### Plot outputs"
   ]
  },
  {
   "cell_type": "code",
   "execution_count": 6,
   "id": "ac98afa7",
   "metadata": {
    "button": false,
    "execution": {
     "iopub.execute_input": "2022-07-27T05:37:15.303775Z",
     "iopub.status.busy": "2022-07-27T05:37:15.303277Z",
     "iopub.status.idle": "2022-07-27T05:37:15.512188Z",
     "shell.execute_reply": "2022-07-27T05:37:15.511307Z"
    },
    "new_sheet": false,
    "papermill": {
     "duration": 0.218926,
     "end_time": "2022-07-27T05:37:15.514111",
     "exception": false,
     "start_time": "2022-07-27T05:37:15.295185",
     "status": "completed"
    },
    "run_control": {
     "read_only": false
    },
    "tags": []
   },
   "outputs": [
    {
     "data": {
      "image/png": "[encoded data removed]",
      "text/plain": [
       "<Figure size 432x288 with 1 Axes>"
      ]
     },
     "metadata": {
      "needs_background": "light"
     },
     "output_type": "display_data"
    }
   ],
   "source": [
    "plt.scatter(datafile.Year, datafile.Placement,  color='blue',label=\"Actual\")\n",
    "plt.plot(train_x, regress.coef_[0][0]*train_x + regress.intercept_[0], '-r',label=\"Predicted\")\n",
    "plt.title(\"Placement plot\")\n",
    "plt.xlim(2000,2020)\n",
    "plt.ylim(45,100)\n",
    "plt.xticks(np.arange(2000,2020,2))\n",
    "plt.legend()\n",
    "plt.xlabel(\"Year\")\n",
    "plt.ylabel(\"Placement\")\n",
    "plt.show()"
   ]
  },
  {
   "cell_type": "code",
   "execution_count": 7,
   "id": "c74cc42d",
   "metadata": {
    "button": false,
    "execution": {
     "iopub.execute_input": "2022-07-27T05:37:15.531426Z",
     "iopub.status.busy": "2022-07-27T05:37:15.530862Z",
     "iopub.status.idle": "2022-07-27T05:37:15.732504Z",
     "shell.execute_reply": "2022-07-27T05:37:15.731611Z"
    },
    "new_sheet": false,
    "papermill": {
     "duration": 0.212409,
     "end_time": "2022-07-27T05:37:15.734510",
     "exception": false,
     "start_time": "2022-07-27T05:37:15.522101",
     "status": "completed"
    },
    "run_control": {
     "read_only": false
    },
    "tags": []
   },
   "outputs": [
    {
     "data": {
      "image/png": "[encoded data removed]",
      "text/plain": [
       "<Figure size 432x288 with 1 Axes>"
      ]
     },
     "metadata": {
      "needs_background": "light"
     },
     "output_type": "display_data"
    }
   ],
   "source": [
    "plt.scatter(datafile1.Year, datafile1.Placement,  color='blue',label=\"Actual\")\n",
    "plt.plot(train_x, regress1.coef_[0][0]*train_x1 + regress1.intercept_[0], '-r',label=\"Predicted\")\n",
    "plt.title(\"Placement plot\")\n",
    "plt.xlim(2000,2020)\n",
    "plt.ylim(45,100)\n",
    "plt.xticks(np.arange(2000,2020,2))\n",
    "plt.legend()\n",
    "plt.xlabel(\"Year\")\n",
    "plt.ylabel(\"Placement\")\n",
    "plt.show()"
   ]
  },
  {
   "cell_type": "code",
   "execution_count": 8,
   "id": "5a9fdf7c",
   "metadata": {
    "execution": {
     "iopub.execute_input": "2022-07-27T05:37:15.753900Z",
     "iopub.status.busy": "2022-07-27T05:37:15.753271Z",
     "iopub.status.idle": "2022-07-27T05:37:15.770150Z",
     "shell.execute_reply": "2022-07-27T05:37:15.765156Z"
    },
    "papermill": {
     "duration": 0.032506,
     "end_time": "2022-07-27T05:37:15.775354",
     "exception": false,
     "start_time": "2022-07-27T05:37:15.742848",
     "status": "completed"
    },
    "tags": []
   },
   "outputs": [
    {
     "name": "stdout",
     "output_type": "stream",
     "text": [
      "[50] [60.05714286]\n",
      "[54] [62.0037594]\n",
      "[62] [63.95037594]\n",
      "[78] [65.89699248]\n",
      "[65] [67.84360902]\n",
      "[69] [69.79022556]\n",
      "[72] [71.73684211]\n",
      "[77] [73.68345865]\n",
      "[85] [75.63007519]\n",
      "[98] [77.57669173]\n",
      "[75] [79.52330827]\n",
      "[80] [81.46992481]\n",
      "[82] [83.41654135]\n",
      "[85] [85.36315789]\n",
      "[88] [87.30977444]\n",
      "[75] [89.25639098]\n",
      "[90] [91.20300752]\n",
      "[93] [93.14962406]\n",
      "[95] [95.0962406]\n",
      "[98] [97.04285714]\n",
      "[[60.05714286]\n",
      " [62.0037594 ]\n",
      " [63.95037594]\n",
      " [65.89699248]\n",
      " [67.84360902]\n",
      " [69.79022556]\n",
      " [71.73684211]\n",
      " [73.68345865]\n",
      " [75.63007519]\n",
      " [77.57669173]\n",
      " [79.52330827]\n",
      " [81.46992481]\n",
      " [83.41654135]\n",
      " [85.36315789]\n",
      " [87.30977444]\n",
      " [89.25639098]\n",
      " [91.20300752]\n",
      " [93.14962406]\n",
      " [95.0962406 ]\n",
      " [97.04285714]]\n",
      "   Year  Placement  Predicted\n",
      "0  2000         50  60.057143\n",
      "1  2001         54  62.003759\n",
      "2  2002         62  63.950376\n",
      "3  2003         78  65.896992\n",
      "4  2004         65  67.843609\n"
     ]
    }
   ],
   "source": [
    "y_predicted = regress.predict(train_x)\n",
    "for i in range(0,len(train_x)):\n",
    "    print(train_y[i],y_predicted[i])\n",
    "datafile['Predicted'] = y_predicted\n",
    "print(y_predicted)\n",
    "print(datafile.head())\n",
    "#datafile.to_csv(\"E:\\\\ML Online\\\\Module 3\\\\Datasets\\\\placement.csv\")"
   ]
  },
  {
   "cell_type": "code",
   "execution_count": 9,
   "id": "eacb326d",
   "metadata": {
    "execution": {
     "iopub.execute_input": "2022-07-27T05:37:15.810320Z",
     "iopub.status.busy": "2022-07-27T05:37:15.809910Z",
     "iopub.status.idle": "2022-07-27T05:37:15.830121Z",
     "shell.execute_reply": "2022-07-27T05:37:15.827991Z"
    },
    "papermill": {
     "duration": 0.039778,
     "end_time": "2022-07-27T05:37:15.832734",
     "exception": false,
     "start_time": "2022-07-27T05:37:15.792956",
     "status": "completed"
    },
    "tags": []
   },
   "outputs": [
    {
     "name": "stdout",
     "output_type": "stream",
     "text": [
      "[50] [50.]\n",
      "[50] [50.]\n",
      "[50] [50.]\n",
      "[50] [50.]\n",
      "[50] [50.]\n",
      "[50] [50.]\n",
      "[50] [50.]\n",
      "[50] [50.]\n",
      "[50] [50.]\n",
      "[50] [50.]\n",
      "[50] [50.]\n",
      "[50] [50.]\n",
      "[50] [50.]\n",
      "[50] [50.]\n",
      "[50] [50.]\n",
      "[50] [50.]\n",
      "[50] [50.]\n",
      "[50] [50.]\n",
      "[50] [50.]\n",
      "[50] [50.]\n",
      "[[50.]\n",
      " [50.]\n",
      " [50.]\n",
      " [50.]\n",
      " [50.]\n",
      " [50.]\n",
      " [50.]\n",
      " [50.]\n",
      " [50.]\n",
      " [50.]\n",
      " [50.]\n",
      " [50.]\n",
      " [50.]\n",
      " [50.]\n",
      " [50.]\n",
      " [50.]\n",
      " [50.]\n",
      " [50.]\n",
      " [50.]\n",
      " [50.]]\n",
      "   Year  Placement  Predicted\n",
      "0  2000         50       50.0\n",
      "1  2001         50       50.0\n",
      "2  2002         50       50.0\n",
      "3  2003         50       50.0\n",
      "4  2004         50       50.0\n"
     ]
    }
   ],
   "source": [
    "y1_predicted = regress1.predict(train_x1)\n",
    "for i in range(0,len(train_x1)):\n",
    "    print(train_y1[i],y1_predicted[i])\n",
    "datafile1['Predicted'] = y1_predicted\n",
    "print(y1_predicted)\n",
    "print(datafile1.head())\n",
    "#datafile.to_csv(\"E:\\\\ML Online\\\\Module 3\\\\Datasets\\\\placement.csv\")"
   ]
  },
  {
   "cell_type": "markdown",
   "id": "e37387cb",
   "metadata": {
    "button": false,
    "new_sheet": false,
    "papermill": {
     "duration": 0.016098,
     "end_time": "2022-07-27T05:37:15.869195",
     "exception": false,
     "start_time": "2022-07-27T05:37:15.853097",
     "status": "completed"
    },
    "run_control": {
     "read_only": false
    },
    "tags": []
   },
   "source": [
    "#### Performance measurement\n",
    "Any of the following metrics may be used:\n",
    "<ul>\n",
    "    <li> Mean absolute error: It is the average of the absolute value of all the errors. </li>\n",
    "    <li> Mean Squared Error (MSE): Mean Squared Error (MSE) is the mean of the squared error. This is efficient since the focus is on large errors and doesnot consider sign of error.</li>\n",
    "    <li> Root Mean Squared Error (RMSE): This is a metric to calculate the accuracy of the model. It represents how close the data are to the fitted regression line. The higher the R-squared, the better the model fits your data. Best possible score is 1.0 and it can be negative (because the model can be arbitrarily worse).</li>\n",
    "</ul>"
   ]
  },
  {
   "cell_type": "code",
   "execution_count": 10,
   "id": "a6b32814",
   "metadata": {
    "execution": {
     "iopub.execute_input": "2022-07-27T05:37:15.899317Z",
     "iopub.status.busy": "2022-07-27T05:37:15.898901Z",
     "iopub.status.idle": "2022-07-27T05:37:15.911878Z",
     "shell.execute_reply": "2022-07-27T05:37:15.910535Z"
    },
    "papermill": {
     "duration": 0.035939,
     "end_time": "2022-07-27T05:37:15.916903",
     "exception": false,
     "start_time": "2022-07-27T05:37:15.880964",
     "status": "completed"
    },
    "tags": []
   },
   "outputs": [
    {
     "name": "stdout",
     "output_type": "stream",
     "text": [
      "Mean Absolute Error: 4.712330827067649\n",
      "Mean Squared Error: 53.55274436090161\n",
      "Root Mean Squared Error: 7.317974061234544\n"
     ]
    }
   ],
   "source": [
    "from sklearn import metrics\n",
    "print('Mean Absolute Error:', metrics.mean_absolute_error(train_y, y_predicted))\n",
    "print('Mean Squared Error:', metrics.mean_squared_error(train_y, y_predicted))\n",
    "print('Root Mean Squared Error:', np.sqrt(metrics.mean_squared_error(train_y, y_predicted)))"
   ]
  },
  {
   "cell_type": "code",
   "execution_count": 11,
   "id": "634128a3",
   "metadata": {
    "execution": {
     "iopub.execute_input": "2022-07-27T05:37:15.944619Z",
     "iopub.status.busy": "2022-07-27T05:37:15.943956Z",
     "iopub.status.idle": "2022-07-27T05:37:15.954443Z",
     "shell.execute_reply": "2022-07-27T05:37:15.953129Z"
    },
    "papermill": {
     "duration": 0.027249,
     "end_time": "2022-07-27T05:37:15.958031",
     "exception": false,
     "start_time": "2022-07-27T05:37:15.930782",
     "status": "completed"
    },
    "tags": []
   },
   "outputs": [
    {
     "name": "stdout",
     "output_type": "stream",
     "text": [
      "Mean Absolute Error: 0.0\n",
      "Mean Squared Error: 0.0\n",
      "Root Mean Squared Error: 0.0\n"
     ]
    }
   ],
   "source": [
    "from sklearn import metrics\n",
    "print('Mean Absolute Error:', metrics.mean_absolute_error(train_y1, y1_predicted))\n",
    "print('Mean Squared Error:', metrics.mean_squared_error(train_y1, y1_predicted))\n",
    "print('Root Mean Squared Error:', np.sqrt(metrics.mean_squared_error(train_y1, y1_predicted)))"
   ]
  },
  {
   "cell_type": "code",
   "execution_count": 12,
   "id": "a1c822ce",
   "metadata": {
    "button": false,
    "execution": {
     "iopub.execute_input": "2022-07-27T05:37:15.997022Z",
     "iopub.status.busy": "2022-07-27T05:37:15.996483Z",
     "iopub.status.idle": "2022-07-27T05:37:16.009013Z",
     "shell.execute_reply": "2022-07-27T05:37:16.007935Z"
    },
    "new_sheet": false,
    "papermill": {
     "duration": 0.037274,
     "end_time": "2022-07-27T05:37:16.012142",
     "exception": false,
     "start_time": "2022-07-27T05:37:15.974868",
     "status": "completed"
    },
    "run_control": {
     "read_only": false
    },
    "scrolled": true,
    "tags": []
   },
   "outputs": [
    {
     "name": "stdout",
     "output_type": "stream",
     "text": [
      "Mean absolute error (MAE): 4.712330827067649\n",
      "Mean square error (MSE):  53.55274436090161\n",
      "R2-score: %.2f (RMSE): 0.7017349483512629\n"
     ]
    }
   ],
   "source": [
    "from sklearn.metrics import r2_score\n",
    "\n",
    "test_x = np.asanyarray(datafile[['Year']])\n",
    "test_y = np.asanyarray(datafile[['Placement']])\n",
    "test_y_predicted = regress.predict(test_x)\n",
    "\n",
    "print(\"Mean absolute error (MAE):\" , np.mean(np.absolute(test_y_predicted - test_y)))\n",
    "print(\"Mean square error (MSE): \" , np.mean((test_y_predicted - test_y) ** 2))\n",
    "print(\"R2-score: %.2f (RMSE):\" , r2_score(test_y, test_y_predicted) )"
   ]
  },
  {
   "cell_type": "code",
   "execution_count": 13,
   "id": "cc068543",
   "metadata": {
    "button": false,
    "execution": {
     "iopub.execute_input": "2022-07-27T05:37:16.046539Z",
     "iopub.status.busy": "2022-07-27T05:37:16.046103Z",
     "iopub.status.idle": "2022-07-27T05:37:16.060837Z",
     "shell.execute_reply": "2022-07-27T05:37:16.059910Z"
    },
    "new_sheet": false,
    "papermill": {
     "duration": 0.036316,
     "end_time": "2022-07-27T05:37:16.066045",
     "exception": false,
     "start_time": "2022-07-27T05:37:16.029729",
     "status": "completed"
    },
    "run_control": {
     "read_only": false
    },
    "scrolled": true,
    "tags": []
   },
   "outputs": [
    {
     "name": "stdout",
     "output_type": "stream",
     "text": [
      "Mean absolute error (MAE): 0.0\n",
      "Mean square error (MSE):  0.0\n",
      "R2-score: %.2f (RMSE): 1.0\n"
     ]
    }
   ],
   "source": [
    "from sklearn.metrics import r2_score\n",
    "\n",
    "test_x1 = np.asanyarray(datafile1[['Year']])\n",
    "test_y1 = np.asanyarray(datafile1[['Placement']])\n",
    "test_y1_predicted = regress1.predict(test_x1)\n",
    "\n",
    "print(\"Mean absolute error (MAE):\" , np.mean(np.absolute(test_y1_predicted - test_y1)))\n",
    "print(\"Mean square error (MSE): \" , np.mean((test_y1_predicted - test_y1) ** 2))\n",
    "print(\"R2-score: %.2f (RMSE):\" , r2_score(test_y1, test_y1_predicted) )"
   ]
  },
  {
   "cell_type": "markdown",
   "id": "5bf46845",
   "metadata": {
    "papermill": {
     "duration": 0.014483,
     "end_time": "2022-07-27T05:37:16.096097",
     "exception": false,
     "start_time": "2022-07-27T05:37:16.081614",
     "status": "completed"
    },
    "tags": []
   },
   "source": [
    "# Using training and testing data"
   ]
  },
  {
   "cell_type": "code",
   "execution_count": 14,
   "id": "75631954",
   "metadata": {
    "execution": {
     "iopub.execute_input": "2022-07-27T05:37:16.127102Z",
     "iopub.status.busy": "2022-07-27T05:37:16.126633Z",
     "iopub.status.idle": "2022-07-27T05:37:16.152022Z",
     "shell.execute_reply": "2022-07-27T05:37:16.150952Z"
    },
    "papermill": {
     "duration": 0.04393,
     "end_time": "2022-07-27T05:37:16.154716",
     "exception": false,
     "start_time": "2022-07-27T05:37:16.110786",
     "status": "completed"
    },
    "tags": []
   },
   "outputs": [
    {
     "name": "stdout",
     "output_type": "stream",
     "text": [
      "    Year\n",
      "11  2011\n",
      "3   2003\n",
      "18  2018\n",
      "16  2016\n",
      "13  2013\n",
      "2   2002\n",
      "9   2009\n",
      "19  2019\n",
      "4   2004\n",
      "12  2012\n",
      "7   2007\n",
      "10  2010\n",
      "14  2014\n",
      "6   2006\n",
      "Testing\n",
      "    Year\n",
      "0   2000\n",
      "17  2017\n",
      "15  2015\n",
      "1   2001\n",
      "8   2008\n",
      "5   2005\n",
      "Coefficients:  [[1.70675575]]\n",
      "Intercept:  [-3349.2809948]\n"
     ]
    }
   ],
   "source": [
    "from sklearn.model_selection import train_test_split\n",
    "\n",
    "train_x, test_x, train_y, test_y = train_test_split(datafile[['Year']], datafile[['Placement']], test_size=0.30, random_state=42)\n",
    "print(train_x)\n",
    "print(\"Testing\")\n",
    "print(test_x)\n",
    "\n",
    "from sklearn import linear_model\n",
    "regress = linear_model.LinearRegression()\n",
    "regress.fit (train_x,train_y)\n",
    "# The coefficients\n",
    "print ('Coefficients: ', regress.coef_)\n",
    "print ('Intercept: ',regress.intercept_)"
   ]
  },
  {
   "cell_type": "code",
   "execution_count": 15,
   "id": "cb4619fd",
   "metadata": {
    "execution": {
     "iopub.execute_input": "2022-07-27T05:37:16.185247Z",
     "iopub.status.busy": "2022-07-27T05:37:16.184777Z",
     "iopub.status.idle": "2022-07-27T05:37:16.200190Z",
     "shell.execute_reply": "2022-07-27T05:37:16.199213Z"
    },
    "papermill": {
     "duration": 0.033575,
     "end_time": "2022-07-27T05:37:16.203194",
     "exception": false,
     "start_time": "2022-07-27T05:37:16.169619",
     "status": "completed"
    },
    "tags": []
   },
   "outputs": [
    {
     "name": "stdout",
     "output_type": "stream",
     "text": [
      "    Year\n",
      "0   2000\n",
      "17  2017\n",
      "15  2015\n",
      "1   2001\n",
      "8   2008\n",
      "5   2005\n",
      "    Placement\n",
      "0          50\n",
      "17         93\n",
      "15         75\n",
      "1          54\n",
      "8          85\n",
      "5          69\n",
      "[[64.23051225]\n",
      " [93.24536006]\n",
      " [89.83184855]\n",
      " [65.937268  ]\n",
      " [77.88455828]\n",
      " [72.76429102]]\n"
     ]
    }
   ],
   "source": [
    "y_predicted = regress.predict(test_x)\n",
    "print(test_x)\n",
    "print(test_y)\n",
    "print(y_predicted)\n",
    "#for i in range(0,len(test_y)):\n",
    "  #  print(test_y[i],y_predicted[i])\n",
    "#datafile['Predicted1'] = y_predicted\n",
    "\n",
    "#print(datafile.head())\n",
    "#datafile.to_csv(\"E:\\\\ML Online\\\\Module 3\\\\Datasets\\\\placement.csv\")"
   ]
  },
  {
   "cell_type": "code",
   "execution_count": 16,
   "id": "5c1610fa",
   "metadata": {
    "execution": {
     "iopub.execute_input": "2022-07-27T05:37:16.235077Z",
     "iopub.status.busy": "2022-07-27T05:37:16.234564Z",
     "iopub.status.idle": "2022-07-27T05:37:16.252133Z",
     "shell.execute_reply": "2022-07-27T05:37:16.250692Z"
    },
    "papermill": {
     "duration": 0.037643,
     "end_time": "2022-07-27T05:37:16.256058",
     "exception": false,
     "start_time": "2022-07-27T05:37:16.218415",
     "status": "completed"
    },
    "tags": []
   },
   "outputs": [
    {
     "name": "stdout",
     "output_type": "stream",
     "text": [
      "Mean Absolute Error: 8.687453600594003\n",
      "Mean Squared Error: 104.9748628433119\n",
      "Root Mean Squared Error: 10.245724124887996\n"
     ]
    }
   ],
   "source": [
    "from sklearn import metrics\n",
    "print('Mean Absolute Error:', metrics.mean_absolute_error(test_y, y_predicted))\n",
    "print('Mean Squared Error:', metrics.mean_squared_error(test_y, y_predicted))\n",
    "print('Root Mean Squared Error:', np.sqrt(metrics.mean_squared_error(test_y, y_predicted)))"
   ]
  },
  {
   "cell_type": "code",
   "execution_count": 17,
   "id": "0f58d4cf",
   "metadata": {
    "execution": {
     "iopub.execute_input": "2022-07-27T05:37:16.286816Z",
     "iopub.status.busy": "2022-07-27T05:37:16.286319Z",
     "iopub.status.idle": "2022-07-27T05:37:16.339201Z",
     "shell.execute_reply": "2022-07-27T05:37:16.337800Z"
    },
    "papermill": {
     "duration": 0.071561,
     "end_time": "2022-07-27T05:37:16.342480",
     "exception": false,
     "start_time": "2022-07-27T05:37:16.270919",
     "status": "completed"
    },
    "tags": []
   },
   "outputs": [
    {
     "name": "stdout",
     "output_type": "stream",
     "text": [
      "[-0.00562185  0.73731733 -1.08086996 -2.00601522  0.92745586]\n"
     ]
    }
   ],
   "source": [
    "from sklearn.model_selection import cross_val_score\n",
    "accuracy = cross_val_score(regress, datafile[['Year']], datafile[['Placement']], cv = 5,scoring='r2')\n",
    "print(accuracy)"
   ]
  },
  {
   "cell_type": "code",
   "execution_count": 18,
   "id": "84adce4c",
   "metadata": {
    "execution": {
     "iopub.execute_input": "2022-07-27T05:37:16.372404Z",
     "iopub.status.busy": "2022-07-27T05:37:16.372141Z",
     "iopub.status.idle": "2022-07-27T05:37:16.378358Z",
     "shell.execute_reply": "2022-07-27T05:37:16.377304Z"
    },
    "papermill": {
     "duration": 0.025208,
     "end_time": "2022-07-27T05:37:16.382891",
     "exception": false,
     "start_time": "2022-07-27T05:37:16.357683",
     "status": "completed"
    },
    "tags": []
   },
   "outputs": [
    {
     "name": "stdout",
     "output_type": "stream",
     "text": [
      "dict_keys(['explained_variance', 'r2', 'max_error', 'neg_median_absolute_error', 'neg_mean_absolute_error', 'neg_mean_absolute_percentage_error', 'neg_mean_squared_error', 'neg_mean_squared_log_error', 'neg_root_mean_squared_error', 'neg_mean_poisson_deviance', 'neg_mean_gamma_deviance', 'accuracy', 'top_k_accuracy', 'roc_auc', 'roc_auc_ovr', 'roc_auc_ovo', 'roc_auc_ovr_weighted', 'roc_auc_ovo_weighted', 'balanced_accuracy', 'average_precision', 'neg_log_loss', 'neg_brier_score', 'adjusted_rand_score', 'rand_score', 'homogeneity_score', 'completeness_score', 'v_measure_score', 'mutual_info_score', 'adjusted_mutual_info_score', 'normalized_mutual_info_score', 'fowlkes_mallows_score', 'precision', 'precision_macro', 'precision_micro', 'precision_samples', 'precision_weighted', 'recall', 'recall_macro', 'recall_micro', 'recall_samples', 'recall_weighted', 'f1', 'f1_macro', 'f1_micro', 'f1_samples', 'f1_weighted', 'jaccard', 'jaccard_macro', 'jaccard_micro', 'jaccard_samples', 'jaccard_weighted'])\n"
     ]
    }
   ],
   "source": [
    "import sklearn\n",
    "print(sklearn.metrics.SCORERS.keys())"
   ]
  },
  {
   "cell_type": "code",
   "execution_count": 19,
   "id": "da2e8de4",
   "metadata": {
    "execution": {
     "iopub.execute_input": "2022-07-27T05:37:16.413190Z",
     "iopub.status.busy": "2022-07-27T05:37:16.412916Z",
     "iopub.status.idle": "2022-07-27T05:37:16.456180Z",
     "shell.execute_reply": "2022-07-27T05:37:16.455089Z"
    },
    "papermill": {
     "duration": 0.058836,
     "end_time": "2022-07-27T05:37:16.458381",
     "exception": false,
     "start_time": "2022-07-27T05:37:16.399545",
     "status": "completed"
    },
    "tags": []
   },
   "outputs": [
    {
     "name": "stdout",
     "output_type": "stream",
     "text": [
      "(501, 17)\n"
     ]
    },
    {
     "data": {
      "text/html": [
       "<div>\n",
       "<style scoped>\n",
       "    .dataframe tbody tr th:only-of-type {\n",
       "        vertical-align: middle;\n",
       "    }\n",
       "\n",
       "    .dataframe tbody tr th {\n",
       "        vertical-align: top;\n",
       "    }\n",
       "\n",
       "    .dataframe thead th {\n",
       "        text-align: right;\n",
       "    }\n",
       "</style>\n",
       "<table border=\"1\" class=\"dataframe\">\n",
       "  <thead>\n",
       "    <tr style=\"text-align: right;\">\n",
       "      <th></th>\n",
       "      <th>Company Name</th>\n",
       "      <th>Symbol</th>\n",
       "      <th>Industry</th>\n",
       "      <th>Series</th>\n",
       "      <th>Open</th>\n",
       "      <th>High</th>\n",
       "      <th>Low</th>\n",
       "      <th>Previous Close</th>\n",
       "      <th>Last Traded Price</th>\n",
       "      <th>Change</th>\n",
       "      <th>Percentage Change</th>\n",
       "      <th>Share Volume</th>\n",
       "      <th>Value (Indian Rupee)</th>\n",
       "      <th>52 Week High</th>\n",
       "      <th>52 Week Low</th>\n",
       "      <th>365 Day Percentage Change</th>\n",
       "      <th>30 Day Percentage Change</th>\n",
       "    </tr>\n",
       "  </thead>\n",
       "  <tbody>\n",
       "    <tr>\n",
       "      <th>0</th>\n",
       "      <td>3M India Ltd.</td>\n",
       "      <td>3MINDIA</td>\n",
       "      <td>Diversified</td>\n",
       "      <td>EQ</td>\n",
       "      <td>21950.00</td>\n",
       "      <td>21999.00</td>\n",
       "      <td>21126.05</td>\n",
       "      <td>21854.05</td>\n",
       "      <td>21575.00</td>\n",
       "      <td>-279.05</td>\n",
       "      <td>-1.28</td>\n",
       "      <td>4159</td>\n",
       "      <td>8.965357e+07</td>\n",
       "      <td>27800.00</td>\n",
       "      <td>17273.00</td>\n",
       "      <td>-10.18</td>\n",
       "      <td>8.22</td>\n",
       "    </tr>\n",
       "    <tr>\n",
       "      <th>1</th>\n",
       "      <td>Aarti Drugs Ltd.</td>\n",
       "      <td>AARTIDRUGS</td>\n",
       "      <td>Healthcare</td>\n",
       "      <td>EQ</td>\n",
       "      <td>400.50</td>\n",
       "      <td>401.80</td>\n",
       "      <td>394.10</td>\n",
       "      <td>403.85</td>\n",
       "      <td>400.00</td>\n",
       "      <td>-3.85</td>\n",
       "      <td>-0.95</td>\n",
       "      <td>31782</td>\n",
       "      <td>1.262731e+07</td>\n",
       "      <td>749.75</td>\n",
       "      <td>378.00</td>\n",
       "      <td>-42.92</td>\n",
       "      <td>-5.10</td>\n",
       "    </tr>\n",
       "    <tr>\n",
       "      <th>2</th>\n",
       "      <td>Aavas Financiers Ltd.</td>\n",
       "      <td>AAVAS</td>\n",
       "      <td>Financial Services</td>\n",
       "      <td>EQ</td>\n",
       "      <td>1997.10</td>\n",
       "      <td>2004.05</td>\n",
       "      <td>1894.50</td>\n",
       "      <td>2015.45</td>\n",
       "      <td>1943.15</td>\n",
       "      <td>-72.30</td>\n",
       "      <td>-3.59</td>\n",
       "      <td>150704</td>\n",
       "      <td>2.907728e+08</td>\n",
       "      <td>3340.00</td>\n",
       "      <td>1815.00</td>\n",
       "      <td>-25.69</td>\n",
       "      <td>-9.39</td>\n",
       "    </tr>\n",
       "    <tr>\n",
       "      <th>3</th>\n",
       "      <td>ABB India Ltd.</td>\n",
       "      <td>ABB</td>\n",
       "      <td>Capital Goods</td>\n",
       "      <td>EQ</td>\n",
       "      <td>2260.35</td>\n",
       "      <td>2311.50</td>\n",
       "      <td>2260.35</td>\n",
       "      <td>2300.90</td>\n",
       "      <td>2280.00</td>\n",
       "      <td>-20.90</td>\n",
       "      <td>-0.91</td>\n",
       "      <td>97053</td>\n",
       "      <td>2.210935e+08</td>\n",
       "      <td>2487.85</td>\n",
       "      <td>1618.05</td>\n",
       "      <td>27.25</td>\n",
       "      <td>-5.21</td>\n",
       "    </tr>\n",
       "    <tr>\n",
       "      <th>4</th>\n",
       "      <td>Abbott India Ltd.</td>\n",
       "      <td>ABBOTINDIA</td>\n",
       "      <td>Healthcare</td>\n",
       "      <td>EQ</td>\n",
       "      <td>18700.40</td>\n",
       "      <td>19200.00</td>\n",
       "      <td>18605.00</td>\n",
       "      <td>18760.40</td>\n",
       "      <td>19199.80</td>\n",
       "      <td>439.40</td>\n",
       "      <td>2.34</td>\n",
       "      <td>12396</td>\n",
       "      <td>2.346770e+08</td>\n",
       "      <td>23934.45</td>\n",
       "      <td>15514.00</td>\n",
       "      <td>11.61</td>\n",
       "      <td>5.84</td>\n",
       "    </tr>\n",
       "  </tbody>\n",
       "</table>\n",
       "</div>"
      ],
      "text/plain": [
       "            Company Name      Symbol            Industry Series      Open  \\\n",
       "0          3M India Ltd.     3MINDIA         Diversified     EQ  21950.00   \n",
       "1       Aarti Drugs Ltd.  AARTIDRUGS          Healthcare     EQ    400.50   \n",
       "2  Aavas Financiers Ltd.       AAVAS  Financial Services     EQ   1997.10   \n",
       "3         ABB India Ltd.         ABB       Capital Goods     EQ   2260.35   \n",
       "4      Abbott India Ltd.  ABBOTINDIA          Healthcare     EQ  18700.40   \n",
       "\n",
       "       High       Low  Previous Close  Last Traded Price   Change  \\\n",
       "0  21999.00  21126.05        21854.05           21575.00  -279.05   \n",
       "1    401.80    394.10          403.85             400.00    -3.85   \n",
       "2   2004.05   1894.50         2015.45            1943.15   -72.30   \n",
       "3   2311.50   2260.35         2300.90            2280.00   -20.90   \n",
       "4  19200.00  18605.00        18760.40           19199.80   439.40   \n",
       "\n",
       "  Percentage Change  Share Volume  Value (Indian Rupee)  52 Week High  \\\n",
       "0             -1.28          4159          8.965357e+07      27800.00   \n",
       "1             -0.95         31782          1.262731e+07        749.75   \n",
       "2             -3.59        150704          2.907728e+08       3340.00   \n",
       "3             -0.91         97053          2.210935e+08       2487.85   \n",
       "4              2.34         12396          2.346770e+08      23934.45   \n",
       "\n",
       "   52 Week Low 365 Day Percentage Change 30 Day Percentage Change  \n",
       "0     17273.00                    -10.18                     8.22  \n",
       "1       378.00                    -42.92                    -5.10  \n",
       "2      1815.00                    -25.69                    -9.39  \n",
       "3      1618.05                     27.25                    -5.21  \n",
       "4     15514.00                     11.61                     5.84  "
      ]
     },
     "execution_count": 19,
     "metadata": {},
     "output_type": "execute_result"
    }
   ],
   "source": [
    "df = pd.read_csv('../input/nifty500-stocks-dataset/nifty_500.csv')\n",
    "print(df.shape)\n",
    "df.head()"
   ]
  },
  {
   "cell_type": "code",
   "execution_count": 20,
   "id": "e1f18de2",
   "metadata": {
    "execution": {
     "iopub.execute_input": "2022-07-27T05:37:16.478764Z",
     "iopub.status.busy": "2022-07-27T05:37:16.477919Z",
     "iopub.status.idle": "2022-07-27T05:37:16.913205Z",
     "shell.execute_reply": "2022-07-27T05:37:16.912287Z"
    },
    "papermill": {
     "duration": 0.447794,
     "end_time": "2022-07-27T05:37:16.915386",
     "exception": false,
     "start_time": "2022-07-27T05:37:16.467592",
     "status": "completed"
    },
    "tags": []
   },
   "outputs": [
    {
     "data": {
      "image/png": "[encoded data removed]",
      "text/plain": [
       "<Figure size 864x432 with 1 Axes>"
      ]
     },
     "metadata": {
      "needs_background": "light"
     },
     "output_type": "display_data"
    }
   ],
   "source": [
    "import seaborn as sns\n",
    "\n",
    "sns.lmplot(x='Open',y='Last Traded Price',data=df, aspect = 2, height = 6)\n",
    "plt.xlabel('Open')\n",
    "plt.ylabel('Last Traded Price')\n",
    "plt.title('Open Vs Last Traded Price');"
   ]
  },
  {
   "cell_type": "code",
   "execution_count": 21,
   "id": "6ccc675e",
   "metadata": {
    "execution": {
     "iopub.execute_input": "2022-07-27T05:37:16.937928Z",
     "iopub.status.busy": "2022-07-27T05:37:16.936085Z",
     "iopub.status.idle": "2022-07-27T05:37:16.953181Z",
     "shell.execute_reply": "2022-07-27T05:37:16.952162Z"
    },
    "papermill": {
     "duration": 0.029979,
     "end_time": "2022-07-27T05:37:16.955228",
     "exception": false,
     "start_time": "2022-07-27T05:37:16.925249",
     "status": "completed"
    },
    "tags": []
   },
   "outputs": [
    {
     "name": "stdout",
     "output_type": "stream",
     "text": [
      "    Code  Marks\n",
      "0   1011     78\n",
      "1   1012     77\n",
      "2   1013     78\n",
      "3   1014     83\n",
      "4   1015     61\n",
      "5   1016     81\n",
      "6   1017     78\n",
      "7   1018     72\n",
      "8   1019     76\n",
      "9   1020     72\n",
      "10  1021     80\n",
      "11  1022     90\n",
      "12  1023     76\n",
      "13  1024     75\n",
      "14  1025     73\n",
      "15  1026     71\n",
      "16  1027     54\n",
      "17  1028     74\n",
      "18  1029     60\n",
      "19  1030     69\n",
      "    Year  Placement\n",
      "0   2000         50\n",
      "1   2001         50\n",
      "2   2002         50\n",
      "3   2003         50\n",
      "4   2004         50\n",
      "5   2005         50\n",
      "6   2006         50\n",
      "7   2007         50\n",
      "8   2008         50\n",
      "9   2009         50\n",
      "10  2010         50\n",
      "11  2011         50\n",
      "12  2012         50\n",
      "13  2013         50\n",
      "14  2014         50\n",
      "15  2015         50\n",
      "16  2016         50\n",
      "17  2017         50\n",
      "18  2018         50\n",
      "19  2019         50\n"
     ]
    }
   ],
   "source": [
    "datafile = pd.DataFrame()\n",
    "datafile[0] = np.arange(1011, 1031)\n",
    "datafile[1] = [78, 77, 78, 83, 61, 81, 78, 72, 76, 72, 80, 90, 76, 75, 73, 71, 54, 74, 60, 69]\n",
    "#datafile[0] = [1,3,5]\n",
    "datafile1 = pd.DataFrame()\n",
    "datafile1[0] = np.arange(2000,2020)\n",
    "#datafile1[1] = [50,54,62,65,68,70,71,74,76,80,82,84,86,90,91,93,94,95,98,100]\n",
    "datafile1[1] = [50,50,50,50,50,50,50,50,50,50,50,50,50,50,50,50,50,50,50,50]\n",
    "#datafile[1] = [22,34,50]\n",
    "datafile.columns =[\"Code\",\"Marks\"]\n",
    "datafile1.columns =[\"Year\",\"Placement\"]\n",
    "print(datafile)\n",
    "print(datafile1)"
   ]
  }
 ],
 "metadata": {
  "kernelspec": {
   "display_name": "Python 3",
   "language": "python",
   "name": "python3"
  },
  "language_info": {
   "codemirror_mode": {
    "name": "ipython",
    "version": 3
   },
   "file_extension": ".py",
   "mimetype": "text/x-python",
   "name": "python",
   "nbconvert_exporter": "python",
   "pygments_lexer": "ipython3",
   "version": "3.7.12"
  },
  "papermill": {
   "default_parameters": {},
   "duration": 12.073289,
   "end_time": "2022-07-27T05:37:17.485444",
   "environment_variables": {},
   "exception": null,
   "input_path": "__notebook__.ipynb",
   "output_path": "__notebook__.ipynb",
   "parameters": {},
   "start_time": "2022-07-27T05:37:05.412155",
   "version": "2.3.4"
  }
 },
 "nbformat": 4,
 "nbformat_minor": 5
}
